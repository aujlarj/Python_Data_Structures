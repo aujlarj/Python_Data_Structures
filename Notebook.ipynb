{
 "cells": [
  {
   "cell_type": "markdown",
   "id": "f4a0a27f",
   "metadata": {},
   "source": [
    "# Linked List"
   ]
  },
  {
   "cell_type": "code",
   "execution_count": 20,
   "id": "f1421cdb",
   "metadata": {},
   "outputs": [],
   "source": [
    "#Linked List\n",
    "\n",
    "class Node:\n",
    "    def __init__(self, data = None):\n",
    "        self.data = data\n",
    "        self.next = None\n",
    "\n",
    "class LinkedList:\n",
    "    def __init__(self):\n",
    "        self.head = None\n",
    "        self.curr = None\n",
    "        self.length = 0\n",
    "        \n",
    "    def insert(self, value):\n",
    "        node = Node(value)\n",
    "        \n",
    "        if self.head:\n",
    "            curr = self.curr\n",
    "            curr.next = node\n",
    "            self.curr = curr.next\n",
    "        else:\n",
    "            self.head = node\n",
    "            self.curr = self.head\n",
    "        \n",
    "        self.length += 1\n",
    "            \n",
    "    \n",
    "    def insert_in_middle(self,position, value):\n",
    "        node = Node(value)\n",
    "        if self.head:\n",
    "            if position > (self.length-1):\n",
    "                curr = self.curr\n",
    "                curr.next = node\n",
    "                self.curr = curr.next\n",
    "            else:\n",
    "                curr = self.head\n",
    "                i = 0\n",
    "                while i < position:\n",
    "                    prev_node = curr\n",
    "                    curr = curr.next\n",
    "                    i += 1\n",
    "                next_node = prev_node.next\n",
    "                curr = node\n",
    "                \n",
    "                prev_node.next = curr\n",
    "                curr.next = next_node\n",
    "        else:\n",
    "            self.head = node\n",
    "            self.curr = self.head\n",
    "        self.length += 1\n",
    "            \n",
    "    \n",
    "    def insert_arr(self, arr):\n",
    "        if self.head:\n",
    "            curr = self.curr\n",
    "            for val in arr:\n",
    "                curr.next = Node(val)\n",
    "                curr = curr.next\n",
    "            self.curr = curr\n",
    "        else:\n",
    "            self.head = Node(arr[0])\n",
    "            curr = self.head\n",
    "            for val in arr[1:]:\n",
    "                curr.next = Node(val)\n",
    "                curr = curr.next\n",
    "            self.curr = curr\n",
    "        self.length += len(arr)\n",
    "            \n",
    "    \n",
    "    def print_ll(self):\n",
    "        curr = self.head\n",
    "        string = ''\n",
    "        while curr:\n",
    "            string += str(curr.data) + ' -> '\n",
    "            curr = curr.next\n",
    "        print('Length:', self.length)\n",
    "        print('Values:', string)\n",
    "    \n",
    "    def print_head(self):\n",
    "        print(self.head.data)\n",
    "    \n",
    "    def print_tail(self):\n",
    "        print(self.curr.data)\n",
    "    \n",
    "    def reverse_ll_from_head(self):\n",
    "        curr = self.head    \n",
    "        self.curr = self.head\n",
    "        prev = None\n",
    "        while curr:\n",
    "            next_node = curr.next\n",
    "            curr.next = prev\n",
    "            \n",
    "            prev = curr\n",
    "            curr = next_node\n",
    "            \n",
    "        self.head = prev\n",
    "        "
   ]
  },
  {
   "cell_type": "code",
   "execution_count": 21,
   "id": "c55014c7",
   "metadata": {},
   "outputs": [
    {
     "name": "stdout",
     "output_type": "stream",
     "text": [
      "Length: 6\n",
      "Values: 1 -> 2 -> 3 -> 4 -> 5 -> 6 -> \n"
     ]
    }
   ],
   "source": [
    "LL = LinkedList()\n",
    "\n",
    "LL.insert(1)\n",
    "LL.insert(2)\n",
    "LL.insert(3)\n",
    "LL.insert(4)\n",
    "LL.insert(5)\n",
    "LL.insert(6)\n",
    "\n",
    "LL.print_ll()"
   ]
  },
  {
   "cell_type": "code",
   "execution_count": 22,
   "id": "7c83eea1",
   "metadata": {},
   "outputs": [
    {
     "name": "stdout",
     "output_type": "stream",
     "text": [
      "Length: 11\n",
      "Values: 1 -> A -> B -> C -> D -> 2 -> 3 -> 4 -> 5 -> 6 -> D -> \n"
     ]
    }
   ],
   "source": [
    "LL.insert_in_middle(1,'A')\n",
    "LL.insert_in_middle(2,'B')\n",
    "LL.insert_in_middle(3,'C')\n",
    "LL.insert_in_middle(4,'D')\n",
    "LL.insert_in_middle(101,'D')\n",
    "\n",
    "LL.print_ll()"
   ]
  },
  {
   "cell_type": "code",
   "execution_count": 23,
   "id": "3626e127",
   "metadata": {},
   "outputs": [
    {
     "name": "stdout",
     "output_type": "stream",
     "text": [
      "Length: 14\n",
      "Values: 1 -> A -> B -> C -> D -> 2 -> 3 -> 4 -> 5 -> 6 -> D -> 30 -> 39 -> 48 -> \n"
     ]
    }
   ],
   "source": [
    "lst = list(range(30,55, 9))\n",
    "\n",
    "LL.insert_arr(lst)\n",
    "LL.print_ll()"
   ]
  },
  {
   "cell_type": "code",
   "execution_count": 24,
   "id": "fb8aa8a8",
   "metadata": {},
   "outputs": [
    {
     "name": "stdout",
     "output_type": "stream",
     "text": [
      "Length: 14\n",
      "Values: 48 -> 39 -> 30 -> D -> 6 -> 5 -> 4 -> 3 -> 2 -> D -> C -> B -> A -> 1 -> \n"
     ]
    }
   ],
   "source": [
    "LL.reverse_ll_from_head()\n",
    "LL.print_ll()"
   ]
  },
  {
   "cell_type": "code",
   "execution_count": 25,
   "id": "8088cbc3",
   "metadata": {},
   "outputs": [
    {
     "name": "stdout",
     "output_type": "stream",
     "text": [
      "48\n",
      "1\n"
     ]
    }
   ],
   "source": [
    "LL.print_head()\n",
    "LL.print_tail()"
   ]
  },
  {
   "cell_type": "markdown",
   "id": "1c407267",
   "metadata": {},
   "source": [
    "# Circular Linked List"
   ]
  },
  {
   "cell_type": "code",
   "execution_count": 26,
   "id": "6c773007",
   "metadata": {},
   "outputs": [],
   "source": [
    "class Node:\n",
    "    def __init__(self, data):\n",
    "        self.data = data\n",
    "        self.next = None\n",
    "        \n",
    "class C_LL:\n",
    "    def __init__(self):\n",
    "        self.head = None\n",
    "        \n",
    "    def prepend(self,value):\n",
    "        node = self.append(value)\n",
    "        self.head = node\n",
    "    \n",
    "    def append(self,value):\n",
    "        node = Node(value)\n",
    "        if self.head:\n",
    "            curr = self.head\n",
    "            while curr.next != self.head:\n",
    "                curr = curr.next\n",
    "            curr.next = node\n",
    "            curr.next.next = self.head\n",
    "        else:\n",
    "            self.head = node\n",
    "            self.head.next = self.head\n",
    "            \n",
    "        return node\n",
    "    \n",
    "    def print_c_ll(self):\n",
    "        curr = self.head\n",
    "        string = ''\n",
    "        while curr:\n",
    "            string += str(curr.data) + ' -> '\n",
    "            curr = curr.next\n",
    "            if curr == self.head:\n",
    "                break\n",
    "                \n",
    "        print(string)"
   ]
  },
  {
   "cell_type": "code",
   "execution_count": 27,
   "id": "05b23519",
   "metadata": {},
   "outputs": [
    {
     "name": "stdout",
     "output_type": "stream",
     "text": [
      "4 -> 3 -> 2 -> 1 -> \n"
     ]
    }
   ],
   "source": [
    "cll = C_LL()\n",
    "\n",
    "cll.prepend(1)\n",
    "cll.prepend(2)\n",
    "cll.prepend(3)\n",
    "cll.prepend(4)\n",
    "\n",
    "cll.print_c_ll()"
   ]
  },
  {
   "cell_type": "code",
   "execution_count": 28,
   "id": "c0e8ee4e",
   "metadata": {},
   "outputs": [
    {
     "name": "stdout",
     "output_type": "stream",
     "text": [
      "4 -> 3 -> 2 -> 1 -> A -> B -> C -> D -> \n"
     ]
    }
   ],
   "source": [
    "cll.append('A')\n",
    "cll.append('B')\n",
    "cll.append('C')\n",
    "cll.append('D')\n",
    "\n",
    "cll.print_c_ll()"
   ]
  },
  {
   "cell_type": "code",
   "execution_count": 29,
   "id": "6d642c8c",
   "metadata": {},
   "outputs": [
    {
     "name": "stdout",
     "output_type": "stream",
     "text": [
      "0 -> 4 -> 3 -> 2 -> 1 -> A -> B -> C -> D -> Z -> \n"
     ]
    }
   ],
   "source": [
    "cll.prepend(0)\n",
    "cll.append('Z')\n",
    "\n",
    "cll.print_c_ll()"
   ]
  },
  {
   "cell_type": "markdown",
   "id": "99f01304",
   "metadata": {},
   "source": [
    "# Doubley Linked List"
   ]
  },
  {
   "cell_type": "code",
   "execution_count": 30,
   "id": "1a5e2214",
   "metadata": {},
   "outputs": [],
   "source": [
    "class Node:\n",
    "    def __init__(self, data):\n",
    "        self.data = data\n",
    "        self.next = None\n",
    "        self.prev = None\n",
    "        \n",
    "class D_ll:\n",
    "    def __init__(self):\n",
    "        self.head = None\n",
    "        \n",
    "    def insert(self, value):\n",
    "        node = Node(value)\n",
    "        if self.head:\n",
    "            curr = self.head\n",
    "            prev = None\n",
    "            while curr.next:\n",
    "                curr = curr.next\n",
    "            node.prev = curr\n",
    "            curr.next = node\n",
    "        else:\n",
    "            self.head = node\n",
    "            \n",
    "    def print_d_ll(self):\n",
    "        curr = self.head\n",
    "        string = ''\n",
    "        while curr:\n",
    "            string += str(curr.data) + ' -> '\n",
    "            prev = curr\n",
    "            curr = curr.next\n",
    "        print(string)\n",
    "        print('--')\n",
    "        \n",
    "        curr = prev\n",
    "        string = ''\n",
    "        while curr:\n",
    "            string += str(curr.data) + ' -> '\n",
    "            curr = curr.prev\n",
    "        print(string)"
   ]
  },
  {
   "cell_type": "code",
   "execution_count": 31,
   "id": "98122238",
   "metadata": {},
   "outputs": [
    {
     "name": "stdout",
     "output_type": "stream",
     "text": [
      "1 -> 2 -> 3 -> 4 -> 5 -> \n",
      "--\n",
      "5 -> 4 -> 3 -> 2 -> 1 -> \n"
     ]
    }
   ],
   "source": [
    "dll = D_ll()\n",
    "\n",
    "dll.insert(1)\n",
    "dll.insert(2)\n",
    "dll.insert(3)\n",
    "dll.insert(4)\n",
    "dll.insert(5)\n",
    "\n",
    "dll.print_d_ll()"
   ]
  },
  {
   "cell_type": "markdown",
   "id": "490c8fbd",
   "metadata": {},
   "source": [
    "# Binary Tree"
   ]
  },
  {
   "cell_type": "code",
   "execution_count": 32,
   "id": "5a430c35",
   "metadata": {},
   "outputs": [],
   "source": [
    "import math\n",
    "\n",
    "class Node:\n",
    "    def __init__(self,value):\n",
    "        self.value = value\n",
    "        self.right = None\n",
    "        self.left = None\n",
    "        \n",
    "class BT:\n",
    "    def __init__(self):\n",
    "        self.root = None\n",
    "        self.curr = None\n",
    "        \n",
    "    def insert_level_order(self, val):\n",
    "        curr = None\n",
    "        newNode = Node(val)\n",
    "        if self.root:\n",
    "            queue = []\n",
    "            queue.append(self.root)\n",
    "            while queue:\n",
    "                node = queue.pop(0)\n",
    "                if not node.left:\n",
    "                    node.left = newNode\n",
    "                    break\n",
    "                else:\n",
    "                    queue.append(node.left)\n",
    "                    \n",
    "                if not node.right:\n",
    "                    node.right = newNode\n",
    "                    break\n",
    "                else:\n",
    "                    queue.append(node.right)\n",
    "        else:\n",
    "            self.root = newNode\n",
    "            \n",
    "    def print_level_order(self):\n",
    "        result = []\n",
    "        if self.root:\n",
    "            queue = []\n",
    "            queue.append(self.root)\n",
    "            \n",
    "            while queue:\n",
    "                curr_nodes = []\n",
    "                length = len(queue)\n",
    "                \n",
    "                for _ in range(length):\n",
    "                    node = queue.pop(0)\n",
    "                    curr_nodes.append(str(node.value))\n",
    "                    if node.left:\n",
    "                        queue.append(node.left)\n",
    "                    if node.right:\n",
    "                        queue.append(node.right)\n",
    "                result.append(curr_nodes)\n",
    "                \n",
    "        for val in result:\n",
    "            print(val)\n",
    "        "
   ]
  },
  {
   "cell_type": "code",
   "execution_count": 33,
   "id": "4c065abf",
   "metadata": {},
   "outputs": [
    {
     "name": "stdout",
     "output_type": "stream",
     "text": [
      "['1']\n",
      "['2', '3']\n",
      "['4', '5', '6', '7']\n",
      "['8', '9', '10', '11', '12', '13', '14']\n"
     ]
    }
   ],
   "source": [
    "bt = BT()\n",
    "\n",
    "bt.insert_level_order(1)\n",
    "bt.insert_level_order(2)\n",
    "bt.insert_level_order(3)\n",
    "bt.insert_level_order(4)\n",
    "bt.insert_level_order(5)\n",
    "bt.insert_level_order(6)\n",
    "bt.insert_level_order(7)\n",
    "bt.insert_level_order(8)\n",
    "bt.insert_level_order(9)\n",
    "bt.insert_level_order(10)\n",
    "bt.insert_level_order(11)\n",
    "bt.insert_level_order(12)\n",
    "bt.insert_level_order(13)\n",
    "bt.insert_level_order(14)\n",
    "\n",
    "bt.print_level_order()"
   ]
  },
  {
   "cell_type": "markdown",
   "id": "fab4bccc",
   "metadata": {},
   "source": [
    "# Binary Search Tree"
   ]
  },
  {
   "cell_type": "code",
   "execution_count": 34,
   "id": "47f2822a",
   "metadata": {},
   "outputs": [],
   "source": [
    "from collections import deque\n",
    "\n",
    "class Node:\n",
    "    def __init__(self, value=None):\n",
    "        self.value = value\n",
    "        self.left = None\n",
    "        self.right = None\n",
    "\n",
    "\n",
    "class BinarySearchTree:\n",
    "    def __init__(self, root=None):\n",
    "        self.root = root\n",
    "        self.result = []\n",
    "        self.string = ''\n",
    "        \n",
    "    def insert(self, value):\n",
    "        node = Node(value)\n",
    "        if self.root:\n",
    "            temp = self.root\n",
    "            while temp:\n",
    "                current = temp\n",
    "                if value > temp.value:\n",
    "                    temp = temp.right\n",
    "                else:\n",
    "                    temp = temp.left\n",
    "\n",
    "            if current.value >= value:\n",
    "                current.left = node\n",
    "            else:\n",
    "                current.right = node\n",
    "        else:\n",
    "            self.root = node\n",
    "            \n",
    "    def levelOrder(self, start):\n",
    "        if start:\n",
    "            self.result = []\n",
    "            travesal = ''\n",
    "            # can also use list instead of deque. doesn't make much difference in time complexity\n",
    "            queue = deque()\n",
    "            queue.append(start)\n",
    "\n",
    "            while queue:\n",
    "                level = len(queue)\n",
    "                current_level = []\n",
    "\n",
    "                for _ in range(level):\n",
    "                    current_node = queue.popleft()\n",
    "                    current_level.append(current_node.value)\n",
    "                    travesal += str(current_node.value) + ' -> '\n",
    "                    if current_node.left:\n",
    "                        queue.append(current_node.left)\n",
    "                    if current_node.right:\n",
    "                        queue.append(current_node.right)\n",
    "                self.result.append(current_level)\n",
    "\n",
    "            return travesal\n",
    "        else:\n",
    "            return\n",
    "        \n",
    "    def inOrder(self, node, s):\n",
    "        if node:\n",
    "            s = self.inOrder(node.left,s)\n",
    "            s += str(node.value) + ' -> '\n",
    "            s = self.inOrder(node.right,s)\n",
    "            \n",
    "        return s\n",
    "    \n",
    "    def inOrder_new(self,node):\n",
    "        if node:\n",
    "            self.inOrder_new(node.left)\n",
    "            self.string += str(node.value) + ' -> '\n",
    "            self.inOrder_new(node.right)\n",
    "            \n",
    "        return self.string\n",
    "            \n",
    "            \n",
    "    def preOrder(self, node, s):\n",
    "        if node:\n",
    "            s += str(node.value) + ' -> '\n",
    "            s = self.preOrder(node.left,s)\n",
    "            s = self.preOrder(node.right,s)\n",
    "            \n",
    "        return s\n",
    "            \n",
    "    def postOrder(self, node, s):\n",
    "        if node:\n",
    "            s = self.postOrder(node.left,s)\n",
    "            s = self.postOrder(node.right,s)\n",
    "            s += str(node.value) + ' -> '\n",
    "            \n",
    "        return s\n",
    "\n",
    "        \n",
    "    def printTree(self, type):\n",
    "        ans = 'Please Specify the right order'\n",
    "        if type.lower() == 'inorder':\n",
    "            ans = 'InOrder -> ' + self.inOrder(self.root, '')\n",
    "        elif type.lower() == 'preorder':\n",
    "            ans = 'PreOrder -> ' + self.preOrder(self.root, '')\n",
    "        elif type.lower() == 'postorder':\n",
    "            ans = 'PostOrder -> ' + self.postOrder(self.root, '')\n",
    "        elif type.lower() == 'levelorder':\n",
    "            ans = 'LevelOrder -> ' + self.levelOrder(self.root)\n",
    "        print(ans)\n",
    "        \n",
    "    def print_new(self):\n",
    "        ans = 'InOrder NEW! -> ' + self.inOrder_new(self.root)\n",
    "        print(ans)\n",
    "\n",
    "    def print_tree(self):\n",
    "        print('--------------------------------')\n",
    "        for val in self.result:\n",
    "            print(val)\n",
    "        print('--------------------------------')"
   ]
  },
  {
   "cell_type": "code",
   "execution_count": 35,
   "id": "78e3bb7d",
   "metadata": {},
   "outputs": [],
   "source": [
    "BST = BinarySearchTree()\n",
    "\n",
    "\n",
    "BST.insert(50)\n",
    "BST.insert(25)\n",
    "BST.insert(75)\n",
    "BST.insert(15)\n",
    "BST.insert(30)\n",
    "BST.insert(65)\n",
    "BST.insert(100)"
   ]
  },
  {
   "cell_type": "code",
   "execution_count": 36,
   "id": "03f61aca",
   "metadata": {},
   "outputs": [
    {
     "name": "stdout",
     "output_type": "stream",
     "text": [
      "InOrder -> 15 -> 25 -> 30 -> 50 -> 65 -> 75 -> 100 -> \n"
     ]
    }
   ],
   "source": [
    "BST.printTree('inorder')"
   ]
  },
  {
   "cell_type": "code",
   "execution_count": 37,
   "id": "2ffb7afd",
   "metadata": {},
   "outputs": [
    {
     "name": "stdout",
     "output_type": "stream",
     "text": [
      "PreOrder -> 50 -> 25 -> 15 -> 30 -> 75 -> 65 -> 100 -> \n"
     ]
    }
   ],
   "source": [
    "BST.printTree('PreOrder')"
   ]
  },
  {
   "cell_type": "code",
   "execution_count": 38,
   "id": "4631fbc1",
   "metadata": {},
   "outputs": [
    {
     "name": "stdout",
     "output_type": "stream",
     "text": [
      "PostOrder -> 15 -> 30 -> 25 -> 65 -> 100 -> 75 -> 50 -> \n"
     ]
    }
   ],
   "source": [
    "BST.printTree('PostOrder')"
   ]
  },
  {
   "cell_type": "code",
   "execution_count": 39,
   "id": "3da4d498",
   "metadata": {},
   "outputs": [
    {
     "name": "stdout",
     "output_type": "stream",
     "text": [
      "LevelOrder -> 50 -> 25 -> 75 -> 15 -> 30 -> 65 -> 100 -> \n"
     ]
    }
   ],
   "source": [
    "BST.printTree('LevelOrder')"
   ]
  },
  {
   "cell_type": "code",
   "execution_count": 40,
   "id": "6d1c3def",
   "metadata": {},
   "outputs": [
    {
     "name": "stdout",
     "output_type": "stream",
     "text": [
      "--------------------------------\n",
      "[50]\n",
      "[25, 75]\n",
      "[15, 30, 65, 100]\n",
      "--------------------------------\n"
     ]
    }
   ],
   "source": [
    "BST.print_tree()"
   ]
  },
  {
   "cell_type": "code",
   "execution_count": 41,
   "id": "fd843b77",
   "metadata": {},
   "outputs": [
    {
     "name": "stdout",
     "output_type": "stream",
     "text": [
      "InOrder NEW! -> 15 -> 25 -> 30 -> 50 -> 65 -> 75 -> 100 -> \n"
     ]
    }
   ],
   "source": [
    "# how to traverse without passing s to the function\n",
    "BST.print_new()\n"
   ]
  },
  {
   "cell_type": "markdown",
   "id": "6b2e46a1",
   "metadata": {},
   "source": [
    "# Tries"
   ]
  },
  {
   "cell_type": "markdown",
   "id": "f359c52d",
   "metadata": {},
   "source": [
    "### with dict"
   ]
  },
  {
   "cell_type": "code",
   "execution_count": 42,
   "id": "cdc38a9c",
   "metadata": {},
   "outputs": [],
   "source": [
    "import pprint\n",
    "\n",
    "class Tries:\n",
    "    def __init__(self):\n",
    "        self.root = {}\n",
    "        \n",
    "    def insert(self,word):\n",
    "        curr = self.root\n",
    "        for letter in word:\n",
    "            letter = letter.lower()\n",
    "            if letter not in curr:\n",
    "                curr[letter] = {}\n",
    "            curr = curr[letter]\n",
    "        curr['*'] = {}\n",
    "        \n",
    "    def search(self,word):\n",
    "        curr = self.root\n",
    "        for letter in word:\n",
    "            letter = letter.lower()\n",
    "            if letter not in curr:\n",
    "                return False\n",
    "            curr = curr[letter]\n",
    "        if '*' not in curr:\n",
    "            return False\n",
    "        return True\n",
    "    \n",
    "    def prefix_search(self, prefix):\n",
    "        curr = self.root\n",
    "        for letter in prefix:\n",
    "            letter = letter.lower()\n",
    "            if letter not in curr:\n",
    "                return False\n",
    "            curr = curr[letter]\n",
    "            \n",
    "        return True\n",
    "    \n",
    "    def print_dict(self):\n",
    "        pp = pprint.PrettyPrinter(indent=4)\n",
    "        pp.pprint(self.root)"
   ]
  },
  {
   "cell_type": "code",
   "execution_count": 43,
   "id": "e4576639",
   "metadata": {},
   "outputs": [
    {
     "name": "stdout",
     "output_type": "stream",
     "text": [
      "{   'a': {'g': {'a': {'i': {'n': {'*': {}}}}}},\n",
      "    'g': {'a': {'i': {'n': {'*': {}}}}},\n",
      "    'r': {   'a': {   'b': {'u': {'*': {}}},\n",
      "                      'n': {'*': {}, 'd': {'o': {'m': {'*': {}}}}}}},\n",
      "    't': {'h': {'e': {'*': {}, 'r': {'e': {'*': {}}}}}}}\n",
      "---\n",
      "True\n",
      "False\n",
      "---\n",
      "True\n",
      "True\n"
     ]
    }
   ],
   "source": [
    "words = ['There', 'The', 'Random', 'gain', 'ran', 'rabu', 'again']\n",
    "obj = Tries()\n",
    "\n",
    "for word in words:\n",
    "    obj.insert(word)\n",
    "\n",
    "obj.print_dict()\n",
    "print('---')\n",
    "print(obj.search('Random'))\n",
    "print(obj.search('ranj'))\n",
    "print('---')\n",
    "print(obj.prefix_search('ra'))\n",
    "print(obj.prefix_search('gain'))\n"
   ]
  },
  {
   "cell_type": "markdown",
   "id": "94977a2f",
   "metadata": {},
   "source": [
    "### with node class"
   ]
  },
  {
   "cell_type": "code",
   "execution_count": 44,
   "id": "23bc4be0",
   "metadata": {},
   "outputs": [],
   "source": [
    "class Node:\n",
    "    def __init__(self, char):\n",
    "        self.char = char.lower()\n",
    "        self.childern = [None] * 26\n",
    "        self.is_end = False\n",
    "        \n",
    "class Tries:\n",
    "    def __init__(self):\n",
    "        self.root = Node('')\n",
    "    \n",
    "    def get_index(self, char):\n",
    "        return ord(char.lower()) - ord('a')\n",
    "    \n",
    "    def insert(self, word):\n",
    "        curr = self.root\n",
    "        for letter in word:\n",
    "            index = self.get_index(letter)\n",
    "            if not curr.childern[index]:\n",
    "                curr.childern[index] = Node(letter)\n",
    "            curr = curr.childern[index]\n",
    "            \n",
    "        curr.is_end = True\n",
    "        \n",
    "    def search(self, word):\n",
    "        curr = self.root\n",
    "        for letter in word:\n",
    "            index = self.get_index(letter)\n",
    "            if not curr.childern[index]:\n",
    "                return False\n",
    "            curr = curr.childern[index]\n",
    "        return curr.is_end            "
   ]
  },
  {
   "cell_type": "code",
   "execution_count": 45,
   "id": "ae336c08",
   "metadata": {},
   "outputs": [
    {
     "name": "stdout",
     "output_type": "stream",
     "text": [
      "True\n",
      "False\n"
     ]
    }
   ],
   "source": [
    "Dict = Tries()\n",
    "\n",
    "for word in words:\n",
    "    Dict.insert(word)\n",
    "\n",
    "\n",
    "print(Dict.search('Random'))\n",
    "print(Dict.search('ranj'))"
   ]
  }
 ],
 "metadata": {
  "kernelspec": {
   "display_name": "Python 3 (ipykernel)",
   "language": "python",
   "name": "python3"
  },
  "language_info": {
   "codemirror_mode": {
    "name": "ipython",
    "version": 3
   },
   "file_extension": ".py",
   "mimetype": "text/x-python",
   "name": "python",
   "nbconvert_exporter": "python",
   "pygments_lexer": "ipython3",
   "version": "3.9.13"
  }
 },
 "nbformat": 4,
 "nbformat_minor": 5
}
